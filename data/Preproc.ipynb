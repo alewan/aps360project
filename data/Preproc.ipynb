{
 "cells": [
  {
   "cell_type": "code",
   "execution_count": 1,
   "metadata": {},
   "outputs": [],
   "source": [
    "import os "
   ]
  },
  {
   "cell_type": "code",
   "execution_count": 2,
   "metadata": {},
   "outputs": [],
   "source": [
    "def makeDirs():\n",
    "    for i in ['train', 'test', 'val']:\n",
    "        os.system(\"mkdir \" + i)\n",
    "        os.chdir(i)\n",
    "        for i in [\"Neutral\", \"Calm\", \"Happy\", \"Sad\", \"Angry\", \"Fearful\", \"Disgust\", \"Surprised\"]:\n",
    "            os.system(\"mkdir \"+ i)\n",
    "        os.chdir(\"..\")"
   ]
  },
  {
   "cell_type": "code",
   "execution_count": 3,
   "metadata": {},
   "outputs": [],
   "source": [
    "makeDirs()"
   ]
  },
  {
   "cell_type": "code",
   "execution_count": 9,
   "metadata": {},
   "outputs": [
    {
     "data": {
      "text/plain": [
       "['Actor_10',\n",
       " 'Actor_21',\n",
       " 'Actor_20',\n",
       " 'Actor_18',\n",
       " 'Actor_02',\n",
       " 'Actor_16',\n",
       " 'Actor_08',\n",
       " 'Actor_07',\n",
       " 'Actor_05',\n",
       " 'val',\n",
       " 'Actor_06',\n",
       " 'Actor_11',\n",
       " 'Actor_01',\n",
       " 'Actor_12',\n",
       " 'Preproc.ipynb',\n",
       " 'Actor_03',\n",
       " 'Actor_09',\n",
       " 'Actor_22',\n",
       " '.ipynb_checkpoints',\n",
       " 'train',\n",
       " 'Actor_24',\n",
       " 'Actor_04',\n",
       " 'test',\n",
       " 'Actor_19',\n",
       " 'Actor_13',\n",
       " 'Actor_15',\n",
       " 'Actor_17',\n",
       " 'Actor_14',\n",
       " 'Actor_23']"
      ]
     },
     "execution_count": 9,
     "metadata": {},
     "output_type": "execute_result"
    }
   ],
   "source": [
    "os.listdir(\".\")"
   ]
  },
  {
   "cell_type": "code",
   "execution_count": 10,
   "metadata": {},
   "outputs": [],
   "source": [
    "def ffmpegIt(filename):\n",
    "    output_name = \"test\"\n",
    "    a = os.system(\"ffmpeg -i \" + filename + \" -vf fps=5/3 \" + \" %04d.jpg\")"
   ]
  },
  {
   "cell_type": "code",
   "execution_count": 11,
   "metadata": {},
   "outputs": [],
   "source": [
    "def renameFiles(direc, newdirec, counter, switch):\n",
    "    if (switch <= 14):\n",
    "        for filename in os.listdir(direc):\n",
    "            if filename.endswith(\".jpg\"):\n",
    "                os.system(\"mv \" + filename + \" train/\" + newdirec + \"/\" + str(counter) + \".jpg\")\n",
    "                counter += 1\n",
    "    elif(switch <= 19):\n",
    "        for filename in os.listdir(direc):\n",
    "            if filename.endswith(\".jpg\"):\n",
    "                os.system(\"mv \" + filename + \" val/\" + newdirec + \"/\" + str(counter) + \".jpg\")\n",
    "                counter += 1\n",
    "    else:\n",
    "        for filename in os.listdir(direc):\n",
    "            if filename.endswith(\".jpg\"):\n",
    "                os.system(\"mv \" + filename + \" test/\" + newdirec + \"/\" + str(counter) + \".jpg\")\n",
    "                counter += 1   \n",
    "    return counter"
   ]
  },
  {
   "cell_type": "code",
   "execution_count": 12,
   "metadata": {},
   "outputs": [],
   "source": [
    "counter = 0\n",
    "counter2 = 0\n",
    "for direc in os.listdir(\".\"):\n",
    "    if direc[:5] == \"Actor\":\n",
    "        counter2 += 1\n",
    "        for filename in os.listdir(\"./\" + direc): \n",
    "            if filename[:2] == '01':\n",
    "                if filename[6:8] == '01':\n",
    "                    ffmpegIt(direc + \"/\" + filename)\n",
    "                    counter = renameFiles(\".\", \"Neutral\", counter, counter2)\n",
    "                elif filename[6:8] == '02':\n",
    "                    ffmpegIt(direc + \"/\" + filename)\n",
    "                    counter = renameFiles(\".\", \"Calm\", counter, counter2)\n",
    "                elif filename[6:8] == '03':\n",
    "                    ffmpegIt(direc + \"/\" + filename)\n",
    "                    counter = renameFiles(\".\", \"Happy\", counter, counter2)\n",
    "                elif filename[6:8] == '04':\n",
    "                    ffmpegIt(direc + \"/\" + filename)\n",
    "                    counter = renameFiles(\".\", \"Sad\", counter, counter2)\n",
    "                elif filename[6:8] == '05':\n",
    "                    ffmpegIt(direc + \"/\" + filename)\n",
    "                    counter = renameFiles(\".\", \"Angry\", counter, counter2)\n",
    "                elif filename[6:8] == '06':\n",
    "                    ffmpegIt(direc + \"/\" + filename)\n",
    "                    counter = renameFiles(\".\", \"Fearful\", counter, counter2)\n",
    "                elif filename[6:8] == '07':\n",
    "                    ffmpegIt(direc + \"/\" + filename)\n",
    "                    counter = renameFiles(\".\", \"Disgust\", counter, counter2)\n",
    "                elif filename[6:8] == '08':\n",
    "                    ffmpegIt(direc + \"/\" + filename)\n",
    "                    counter = renameFiles(\".\", \"Surprised\", counter, counter2)"
   ]
  },
  {
   "cell_type": "code",
   "execution_count": null,
   "metadata": {},
   "outputs": [],
   "source": [
    "#Data is split by actor => no actor is in any combination of train/val/test "
   ]
  },
  {
   "cell_type": "code",
   "execution_count": null,
   "metadata": {},
   "outputs": [],
   "source": [
    "import torch\n",
    "import torchvision"
   ]
  },
  {
   "cell_type": "code",
   "execution_count": null,
   "metadata": {},
   "outputs": [],
   "source": [
    "trainFolder = torchvision.datasets.ImageFolder(\"train\")\n",
    "valFolder = torchvision.datasets.ImageFolder(\"val\")\n",
    "testFolder = torchvision.datasets.ImageFolder(\"test\")"
   ]
  },
  {
   "cell_type": "code",
   "execution_count": null,
   "metadata": {},
   "outputs": [],
   "source": [
    "tr_load = torch.utils.data.DataLoader(trainFolder, batch_size = 32, shuffle= True)\n",
    "val_load = torch.utils.data.DataLoader(valFolder, batch_size = 32, shuffle= True)\n",
    "test_load = torch.utils.data.Dataloader(testFolder, batch_size = 32, shuffle= True)"
   ]
  },
  {
   "cell_type": "code",
   "execution_count": null,
   "metadata": {},
   "outputs": [],
   "source": []
  }
 ],
 "metadata": {
  "kernelspec": {
   "display_name": "Python 3",
   "language": "python",
   "name": "python3"
  },
  "language_info": {
   "codemirror_mode": {
    "name": "ipython",
    "version": 3
   },
   "file_extension": ".py",
   "mimetype": "text/x-python",
   "name": "python",
   "nbconvert_exporter": "python",
   "pygments_lexer": "ipython3",
   "version": "3.6.10"
  }
 },
 "nbformat": 4,
 "nbformat_minor": 2
}
